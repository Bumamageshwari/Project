{
 "cells": [
  {
   "cell_type": "markdown",
   "metadata": {
    "id": "UicUNHNs7wGC"
   },
   "source": [
    "# Solar Power Generation Forecasting By ANN\n",
    "\n"
   ]
  },
  {
   "cell_type": "markdown",
   "metadata": {
    "id": "EUBRdZEs_Ucx"
   },
   "source": [
    "## importing libraries"
   ]
  },
  {
   "cell_type": "code",
   "execution_count": 3,
   "metadata": {
    "id": "-kMcwx2S7jOR"
   },
   "outputs": [],
   "source": [
    "import pandas as pd\n",
    "import numpy as np\n",
    "import tensorflow as tf\n",
    "from keras.layers import Dense, Activation, BatchNormalization, Dropout\n",
    "from keras import regularizers\n",
    "from keras.optimizers import RMSprop, Adam, SGD\n",
    "import datetime\n",
    "import matplotlib.pyplot as plt\n",
    "import seaborn as sns"
   ]
  },
  {
   "cell_type": "markdown",
   "metadata": {
    "id": "k6wzetIP_hgj"
   },
   "source": [
    "## importing dataset"
   ]
  },
  {
   "cell_type": "code",
   "execution_count": 5,
   "metadata": {
    "colab": {
     "base_uri": "https://localhost:8080/",
     "height": 224
    },
    "executionInfo": {
     "elapsed": 3081,
     "status": "ok",
     "timestamp": 1601125742608,
     "user": {
      "displayName": "Anant Gupta",
      "photoUrl": "",
      "userId": "16039351497174952039"
     },
     "user_tz": -330
    },
    "id": "UUYvoox9_gut",
    "outputId": "e5fd778a-9df3-401b-f158-24b484072412"
   },
   "outputs": [
    {
     "ename": "FileNotFoundError",
     "evalue": "[Errno 2] No such file or directory: 'data/solarpowergeneration.csv'",
     "output_type": "error",
     "traceback": [
      "\u001b[1;31m---------------------------------------------------------------------------\u001b[0m",
      "\u001b[1;31mFileNotFoundError\u001b[0m                         Traceback (most recent call last)",
      "Cell \u001b[1;32mIn[5], line 2\u001b[0m\n\u001b[0;32m      1\u001b[0m \u001b[38;5;66;03m#data_path = r'drive/My Drive/Proj/S.P.F./solarpowergeneration.csv'\u001b[39;00m\n\u001b[1;32m----> 2\u001b[0m dts \u001b[38;5;241m=\u001b[39m pd\u001b[38;5;241m.\u001b[39mread_csv(\u001b[38;5;124m'\u001b[39m\u001b[38;5;124mdata/solarpowergeneration.csv\u001b[39m\u001b[38;5;124m'\u001b[39m)\n\u001b[0;32m      3\u001b[0m dts\u001b[38;5;241m.\u001b[39mhead(\u001b[38;5;241m10\u001b[39m)\n",
      "File \u001b[1;32mD:\\anaconda3\\Lib\\site-packages\\pandas\\io\\parsers\\readers.py:1026\u001b[0m, in \u001b[0;36mread_csv\u001b[1;34m(filepath_or_buffer, sep, delimiter, header, names, index_col, usecols, dtype, engine, converters, true_values, false_values, skipinitialspace, skiprows, skipfooter, nrows, na_values, keep_default_na, na_filter, verbose, skip_blank_lines, parse_dates, infer_datetime_format, keep_date_col, date_parser, date_format, dayfirst, cache_dates, iterator, chunksize, compression, thousands, decimal, lineterminator, quotechar, quoting, doublequote, escapechar, comment, encoding, encoding_errors, dialect, on_bad_lines, delim_whitespace, low_memory, memory_map, float_precision, storage_options, dtype_backend)\u001b[0m\n\u001b[0;32m   1013\u001b[0m kwds_defaults \u001b[38;5;241m=\u001b[39m _refine_defaults_read(\n\u001b[0;32m   1014\u001b[0m     dialect,\n\u001b[0;32m   1015\u001b[0m     delimiter,\n\u001b[1;32m   (...)\u001b[0m\n\u001b[0;32m   1022\u001b[0m     dtype_backend\u001b[38;5;241m=\u001b[39mdtype_backend,\n\u001b[0;32m   1023\u001b[0m )\n\u001b[0;32m   1024\u001b[0m kwds\u001b[38;5;241m.\u001b[39mupdate(kwds_defaults)\n\u001b[1;32m-> 1026\u001b[0m \u001b[38;5;28;01mreturn\u001b[39;00m _read(filepath_or_buffer, kwds)\n",
      "File \u001b[1;32mD:\\anaconda3\\Lib\\site-packages\\pandas\\io\\parsers\\readers.py:620\u001b[0m, in \u001b[0;36m_read\u001b[1;34m(filepath_or_buffer, kwds)\u001b[0m\n\u001b[0;32m    617\u001b[0m _validate_names(kwds\u001b[38;5;241m.\u001b[39mget(\u001b[38;5;124m\"\u001b[39m\u001b[38;5;124mnames\u001b[39m\u001b[38;5;124m\"\u001b[39m, \u001b[38;5;28;01mNone\u001b[39;00m))\n\u001b[0;32m    619\u001b[0m \u001b[38;5;66;03m# Create the parser.\u001b[39;00m\n\u001b[1;32m--> 620\u001b[0m parser \u001b[38;5;241m=\u001b[39m TextFileReader(filepath_or_buffer, \u001b[38;5;241m*\u001b[39m\u001b[38;5;241m*\u001b[39mkwds)\n\u001b[0;32m    622\u001b[0m \u001b[38;5;28;01mif\u001b[39;00m chunksize \u001b[38;5;129;01mor\u001b[39;00m iterator:\n\u001b[0;32m    623\u001b[0m     \u001b[38;5;28;01mreturn\u001b[39;00m parser\n",
      "File \u001b[1;32mD:\\anaconda3\\Lib\\site-packages\\pandas\\io\\parsers\\readers.py:1620\u001b[0m, in \u001b[0;36mTextFileReader.__init__\u001b[1;34m(self, f, engine, **kwds)\u001b[0m\n\u001b[0;32m   1617\u001b[0m     \u001b[38;5;28mself\u001b[39m\u001b[38;5;241m.\u001b[39moptions[\u001b[38;5;124m\"\u001b[39m\u001b[38;5;124mhas_index_names\u001b[39m\u001b[38;5;124m\"\u001b[39m] \u001b[38;5;241m=\u001b[39m kwds[\u001b[38;5;124m\"\u001b[39m\u001b[38;5;124mhas_index_names\u001b[39m\u001b[38;5;124m\"\u001b[39m]\n\u001b[0;32m   1619\u001b[0m \u001b[38;5;28mself\u001b[39m\u001b[38;5;241m.\u001b[39mhandles: IOHandles \u001b[38;5;241m|\u001b[39m \u001b[38;5;28;01mNone\u001b[39;00m \u001b[38;5;241m=\u001b[39m \u001b[38;5;28;01mNone\u001b[39;00m\n\u001b[1;32m-> 1620\u001b[0m \u001b[38;5;28mself\u001b[39m\u001b[38;5;241m.\u001b[39m_engine \u001b[38;5;241m=\u001b[39m \u001b[38;5;28mself\u001b[39m\u001b[38;5;241m.\u001b[39m_make_engine(f, \u001b[38;5;28mself\u001b[39m\u001b[38;5;241m.\u001b[39mengine)\n",
      "File \u001b[1;32mD:\\anaconda3\\Lib\\site-packages\\pandas\\io\\parsers\\readers.py:1880\u001b[0m, in \u001b[0;36mTextFileReader._make_engine\u001b[1;34m(self, f, engine)\u001b[0m\n\u001b[0;32m   1878\u001b[0m     \u001b[38;5;28;01mif\u001b[39;00m \u001b[38;5;124m\"\u001b[39m\u001b[38;5;124mb\u001b[39m\u001b[38;5;124m\"\u001b[39m \u001b[38;5;129;01mnot\u001b[39;00m \u001b[38;5;129;01min\u001b[39;00m mode:\n\u001b[0;32m   1879\u001b[0m         mode \u001b[38;5;241m+\u001b[39m\u001b[38;5;241m=\u001b[39m \u001b[38;5;124m\"\u001b[39m\u001b[38;5;124mb\u001b[39m\u001b[38;5;124m\"\u001b[39m\n\u001b[1;32m-> 1880\u001b[0m \u001b[38;5;28mself\u001b[39m\u001b[38;5;241m.\u001b[39mhandles \u001b[38;5;241m=\u001b[39m get_handle(\n\u001b[0;32m   1881\u001b[0m     f,\n\u001b[0;32m   1882\u001b[0m     mode,\n\u001b[0;32m   1883\u001b[0m     encoding\u001b[38;5;241m=\u001b[39m\u001b[38;5;28mself\u001b[39m\u001b[38;5;241m.\u001b[39moptions\u001b[38;5;241m.\u001b[39mget(\u001b[38;5;124m\"\u001b[39m\u001b[38;5;124mencoding\u001b[39m\u001b[38;5;124m\"\u001b[39m, \u001b[38;5;28;01mNone\u001b[39;00m),\n\u001b[0;32m   1884\u001b[0m     compression\u001b[38;5;241m=\u001b[39m\u001b[38;5;28mself\u001b[39m\u001b[38;5;241m.\u001b[39moptions\u001b[38;5;241m.\u001b[39mget(\u001b[38;5;124m\"\u001b[39m\u001b[38;5;124mcompression\u001b[39m\u001b[38;5;124m\"\u001b[39m, \u001b[38;5;28;01mNone\u001b[39;00m),\n\u001b[0;32m   1885\u001b[0m     memory_map\u001b[38;5;241m=\u001b[39m\u001b[38;5;28mself\u001b[39m\u001b[38;5;241m.\u001b[39moptions\u001b[38;5;241m.\u001b[39mget(\u001b[38;5;124m\"\u001b[39m\u001b[38;5;124mmemory_map\u001b[39m\u001b[38;5;124m\"\u001b[39m, \u001b[38;5;28;01mFalse\u001b[39;00m),\n\u001b[0;32m   1886\u001b[0m     is_text\u001b[38;5;241m=\u001b[39mis_text,\n\u001b[0;32m   1887\u001b[0m     errors\u001b[38;5;241m=\u001b[39m\u001b[38;5;28mself\u001b[39m\u001b[38;5;241m.\u001b[39moptions\u001b[38;5;241m.\u001b[39mget(\u001b[38;5;124m\"\u001b[39m\u001b[38;5;124mencoding_errors\u001b[39m\u001b[38;5;124m\"\u001b[39m, \u001b[38;5;124m\"\u001b[39m\u001b[38;5;124mstrict\u001b[39m\u001b[38;5;124m\"\u001b[39m),\n\u001b[0;32m   1888\u001b[0m     storage_options\u001b[38;5;241m=\u001b[39m\u001b[38;5;28mself\u001b[39m\u001b[38;5;241m.\u001b[39moptions\u001b[38;5;241m.\u001b[39mget(\u001b[38;5;124m\"\u001b[39m\u001b[38;5;124mstorage_options\u001b[39m\u001b[38;5;124m\"\u001b[39m, \u001b[38;5;28;01mNone\u001b[39;00m),\n\u001b[0;32m   1889\u001b[0m )\n\u001b[0;32m   1890\u001b[0m \u001b[38;5;28;01massert\u001b[39;00m \u001b[38;5;28mself\u001b[39m\u001b[38;5;241m.\u001b[39mhandles \u001b[38;5;129;01mis\u001b[39;00m \u001b[38;5;129;01mnot\u001b[39;00m \u001b[38;5;28;01mNone\u001b[39;00m\n\u001b[0;32m   1891\u001b[0m f \u001b[38;5;241m=\u001b[39m \u001b[38;5;28mself\u001b[39m\u001b[38;5;241m.\u001b[39mhandles\u001b[38;5;241m.\u001b[39mhandle\n",
      "File \u001b[1;32mD:\\anaconda3\\Lib\\site-packages\\pandas\\io\\common.py:873\u001b[0m, in \u001b[0;36mget_handle\u001b[1;34m(path_or_buf, mode, encoding, compression, memory_map, is_text, errors, storage_options)\u001b[0m\n\u001b[0;32m    868\u001b[0m \u001b[38;5;28;01melif\u001b[39;00m \u001b[38;5;28misinstance\u001b[39m(handle, \u001b[38;5;28mstr\u001b[39m):\n\u001b[0;32m    869\u001b[0m     \u001b[38;5;66;03m# Check whether the filename is to be opened in binary mode.\u001b[39;00m\n\u001b[0;32m    870\u001b[0m     \u001b[38;5;66;03m# Binary mode does not support 'encoding' and 'newline'.\u001b[39;00m\n\u001b[0;32m    871\u001b[0m     \u001b[38;5;28;01mif\u001b[39;00m ioargs\u001b[38;5;241m.\u001b[39mencoding \u001b[38;5;129;01mand\u001b[39;00m \u001b[38;5;124m\"\u001b[39m\u001b[38;5;124mb\u001b[39m\u001b[38;5;124m\"\u001b[39m \u001b[38;5;129;01mnot\u001b[39;00m \u001b[38;5;129;01min\u001b[39;00m ioargs\u001b[38;5;241m.\u001b[39mmode:\n\u001b[0;32m    872\u001b[0m         \u001b[38;5;66;03m# Encoding\u001b[39;00m\n\u001b[1;32m--> 873\u001b[0m         handle \u001b[38;5;241m=\u001b[39m \u001b[38;5;28mopen\u001b[39m(\n\u001b[0;32m    874\u001b[0m             handle,\n\u001b[0;32m    875\u001b[0m             ioargs\u001b[38;5;241m.\u001b[39mmode,\n\u001b[0;32m    876\u001b[0m             encoding\u001b[38;5;241m=\u001b[39mioargs\u001b[38;5;241m.\u001b[39mencoding,\n\u001b[0;32m    877\u001b[0m             errors\u001b[38;5;241m=\u001b[39merrors,\n\u001b[0;32m    878\u001b[0m             newline\u001b[38;5;241m=\u001b[39m\u001b[38;5;124m\"\u001b[39m\u001b[38;5;124m\"\u001b[39m,\n\u001b[0;32m    879\u001b[0m         )\n\u001b[0;32m    880\u001b[0m     \u001b[38;5;28;01melse\u001b[39;00m:\n\u001b[0;32m    881\u001b[0m         \u001b[38;5;66;03m# Binary mode\u001b[39;00m\n\u001b[0;32m    882\u001b[0m         handle \u001b[38;5;241m=\u001b[39m \u001b[38;5;28mopen\u001b[39m(handle, ioargs\u001b[38;5;241m.\u001b[39mmode)\n",
      "\u001b[1;31mFileNotFoundError\u001b[0m: [Errno 2] No such file or directory: 'data/solarpowergeneration.csv'"
     ]
    }
   ],
   "source": [
    "#data_path = r'drive/My Drive/Proj/S.P.F./solarpowergeneration.csv'\n",
    "dts = pd.read_csv('.csv')\n",
    "dts.head(10)"
   ]
  },
  {
   "cell_type": "code",
   "execution_count": null,
   "metadata": {
    "colab": {
     "base_uri": "https://localhost:8080/",
     "height": 34
    },
    "executionInfo": {
     "elapsed": 2721,
     "status": "ok",
     "timestamp": 1601125746274,
     "user": {
      "displayName": "Anant Gupta",
      "photoUrl": "",
      "userId": "16039351497174952039"
     },
     "user_tz": -330
    },
    "id": "2p5Xv7sLGPVM",
    "outputId": "20538b70-e5dd-43df-f181-5a510fb98c77",
    "tags": []
   },
   "outputs": [],
   "source": [
    "X = dts.iloc[:, :-1].values\n",
    "y = dts.iloc[:, -1].values\n",
    "print(X.shape, y.shape)\n",
    "y = np.reshape(y, (-1,1))\n",
    "y.shape"
   ]
  },
  {
   "cell_type": "code",
   "execution_count": null,
   "metadata": {
    "colab": {
     "base_uri": "https://localhost:8080/",
     "height": 238
    },
    "executionInfo": {
     "elapsed": 1521,
     "status": "ok",
     "timestamp": 1601125748969,
     "user": {
      "displayName": "Anant Gupta",
      "photoUrl": "",
      "userId": "16039351497174952039"
     },
     "user_tz": -330
    },
    "id": "ENid0bk0NJ-3",
    "outputId": "ccd0d414-da4a-4f44-d528-503a83351b86"
   },
   "outputs": [],
   "source": [
    "X"
   ]
  },
  {
   "cell_type": "code",
   "execution_count": null,
   "metadata": {
    "colab": {
     "base_uri": "https://localhost:8080/",
     "height": 136
    },
    "executionInfo": {
     "elapsed": 1455,
     "status": "ok",
     "timestamp": 1601125750843,
     "user": {
      "displayName": "Anant Gupta",
      "photoUrl": "",
      "userId": "16039351497174952039"
     },
     "user_tz": -330
    },
    "id": "PFLG0kVFbbip",
    "outputId": "e5461f56-cd8a-4e4e-f680-371cdb502f85"
   },
   "outputs": [],
   "source": [
    "y"
   ]
  },
  {
   "cell_type": "markdown",
   "metadata": {
    "id": "Au0uOU0fJrmw"
   },
   "source": [
    "## Splitting Training and Test sets"
   ]
  },
  {
   "cell_type": "code",
   "execution_count": null,
   "metadata": {
    "id": "lIlEtx-hJv3c",
    "tags": []
   },
   "outputs": [],
   "source": [
    "from sklearn.model_selection import train_test_split\n",
    "X_train, X_test, y_train, y_test = train_test_split(X, y, test_size=0.25, random_state=42)\n",
    "print(\"Train Shape: {} {} \\nTest Shape: {} {}\".format(X_train.shape, y_train.shape, X_test.shape, y_test.shape))"
   ]
  },
  {
   "cell_type": "markdown",
   "metadata": {
    "id": "DxLkrF84POip"
   },
   "source": [
    "## Feature Scaling"
   ]
  },
  {
   "cell_type": "code",
   "execution_count": null,
   "metadata": {
    "id": "puwEuG45PaBm"
   },
   "outputs": [],
   "source": [
    "from sklearn.preprocessing import StandardScaler\n",
    "# input scaling\n",
    "sc_X = StandardScaler()\n",
    "X_train = sc_X.fit_transform(X_train)\n",
    "X_test = sc_X.transform(X_test)\n",
    "\n",
    "# outcome scaling:\n",
    "sc_y = StandardScaler()\n",
    "y_train = sc_y.fit_transform(y_train)    \n",
    "y_test = sc_y.transform(y_test)"
   ]
  },
  {
   "cell_type": "code",
   "execution_count": null,
   "metadata": {
    "colab": {
     "base_uri": "https://localhost:8080/",
     "height": 238
    },
    "executionInfo": {
     "elapsed": 1380,
     "status": "ok",
     "timestamp": 1601125757497,
     "user": {
      "displayName": "Anant Gupta",
      "photoUrl": "",
      "userId": "16039351497174952039"
     },
     "user_tz": -330
    },
    "id": "7gSZs2z9VGxq",
    "outputId": "89312473-af56-4502-eb56-47b4ac10201c"
   },
   "outputs": [],
   "source": [
    "X_train"
   ]
  },
  {
   "cell_type": "code",
   "execution_count": null,
   "metadata": {
    "colab": {
     "base_uri": "https://localhost:8080/",
     "height": 238
    },
    "executionInfo": {
     "elapsed": 1362,
     "status": "ok",
     "timestamp": 1601125759863,
     "user": {
      "displayName": "Anant Gupta",
      "photoUrl": "",
      "userId": "16039351497174952039"
     },
     "user_tz": -330
    },
    "id": "Rpk0HK7LVGjP",
    "outputId": "e2f2b7b1-cc08-4db3-e34d-9cd431f5103b"
   },
   "outputs": [],
   "source": [
    "X_test"
   ]
  },
  {
   "cell_type": "code",
   "execution_count": null,
   "metadata": {
    "colab": {
     "base_uri": "https://localhost:8080/",
     "height": 136
    },
    "executionInfo": {
     "elapsed": 1794,
     "status": "ok",
     "timestamp": 1601125762958,
     "user": {
      "displayName": "Anant Gupta",
      "photoUrl": "",
      "userId": "16039351497174952039"
     },
     "user_tz": -330
    },
    "id": "famB9gS7c8Em",
    "outputId": "8d1e41d0-6f5a-460d-8191-54a5a8755710"
   },
   "outputs": [],
   "source": [
    "y_train"
   ]
  },
  {
   "cell_type": "markdown",
   "metadata": {
    "id": "6MwTUkzTWDTL"
   },
   "source": [
    "## Creating Neural Network"
   ]
  },
  {
   "cell_type": "markdown",
   "metadata": {
    "id": "SgPZtMeF86HH"
   },
   "source": [
    "### defining accuracy function"
   ]
  },
  {
   "cell_type": "code",
   "execution_count": null,
   "metadata": {
    "id": "HPu2xxHcSQOB"
   },
   "outputs": [],
   "source": [
    "def create_spfnet(n_layers, n_activation, kernels):\n",
    "  model = tf.keras.models.Sequential()\n",
    "  for i, nodes in enumerate(n_layers):\n",
    "    if i==0:\n",
    "      model.add(Dense(nodes, kernel_initializer=kernels, activation=n_activation, input_dim=X_train.shape[1]))\n",
    "      #model.add(Dropout(0.3))\n",
    "    else:\n",
    "      model.add(Dense(nodes, activation=n_activation, kernel_initializer=kernels))\n",
    "      #model.add(Dropout(0.3))\n",
    "  \n",
    "  model.add(Dense(1))\n",
    "  model.compile(loss='mse', \n",
    "                optimizer='adam',\n",
    "                metrics=[tf.keras.metrics.RootMeanSquaredError()])\n",
    "  return model\n"
   ]
  },
  {
   "cell_type": "code",
   "execution_count": null,
   "metadata": {
    "id": "4GmFjW2UePTI",
    "tags": []
   },
   "outputs": [],
   "source": [
    "spfnet = create_spfnet([32, 64], 'relu', 'normal')\n",
    "spfnet.summary()"
   ]
  },
  {
   "cell_type": "code",
   "execution_count": null,
   "metadata": {
    "tags": []
   },
   "outputs": [],
   "source": [
    "from keras.utils.vis_utils import plot_model\n",
    "plot_model(spfnet, to_file='spfnet_model.png', show_shapes=True, show_layer_names=True)"
   ]
  },
  {
   "cell_type": "code",
   "execution_count": null,
   "metadata": {
    "colab": {
     "base_uri": "https://localhost:8080/",
     "height": 1000
    },
    "executionInfo": {
     "elapsed": 21938,
     "status": "ok",
     "timestamp": 1601102450392,
     "user": {
      "displayName": "Anant Gupta",
      "photoUrl": "",
      "userId": "16039351497174952039"
     },
     "user_tz": -330
    },
    "id": "lY4tgg3jjiqF",
    "outputId": "b9756462-30db-4b7c-fab5-a39b088b0e32",
    "tags": []
   },
   "outputs": [],
   "source": [
    "hist = spfnet.fit(X_train, y_train, batch_size=32, validation_data=(X_test, y_test),epochs=150, verbose=2)"
   ]
  },
  {
   "cell_type": "code",
   "execution_count": null,
   "metadata": {
    "colab": {
     "base_uri": "https://localhost:8080/",
     "height": 295
    },
    "executionInfo": {
     "elapsed": 2446,
     "status": "ok",
     "timestamp": 1601102373259,
     "user": {
      "displayName": "Anant Gupta",
      "photoUrl": "",
      "userId": "16039351497174952039"
     },
     "user_tz": -330
    },
    "id": "f4co7KnVAdTH",
    "outputId": "b37e337a-00df-4791-85af-760e67c5eda1"
   },
   "outputs": [],
   "source": [
    "\n",
    "plt.plot(hist.history['root_mean_squared_error'])\n",
    "#plt.plot(hist.history['val_root_mean_squared_error'])\n",
    "plt.title('Root Mean Squares Error')\n",
    "plt.xlabel('Epochs')\n",
    "plt.ylabel('error')\n",
    "plt.show()"
   ]
  },
  {
   "cell_type": "code",
   "execution_count": null,
   "metadata": {
    "tags": []
   },
   "outputs": [],
   "source": [
    "spfnet.evaluate(X_train, y_train)"
   ]
  },
  {
   "cell_type": "code",
   "execution_count": null,
   "metadata": {},
   "outputs": [],
   "source": [
    "from sklearn.metrics import mean_squared_error\n",
    "\n",
    "y_pred = spfnet.predict(X_test) # get model predictions (scaled inputs here)\n",
    "y_pred_orig = sc_y.inverse_transform(y_pred) # unscale the predictions\n",
    "y_test_orig = sc_y.inverse_transform(y_test) # unscale the true test outcomes\n",
    "\n",
    "RMSE_orig = mean_squared_error(y_pred_orig, y_test_orig, squared=False)\n",
    "RMSE_orig"
   ]
  },
  {
   "cell_type": "code",
   "execution_count": null,
   "metadata": {},
   "outputs": [],
   "source": [
    "train_pred = spfnet.predict(X_train) # get model predictions (scaled inputs here)\n",
    "train_pred_orig = sc_y.inverse_transform(train_pred) # unscale the predictions\n",
    "y_train_orig = sc_y.inverse_transform(y_train) # unscale the true train outcomes\n",
    "\n",
    "mean_squared_error(train_pred_orig, y_train_orig, squared=False)"
   ]
  },
  {
   "cell_type": "code",
   "execution_count": null,
   "metadata": {},
   "outputs": [],
   "source": [
    "from sklearn.metrics import r2_score\n",
    "r2_score(y_pred_orig, y_test_orig)"
   ]
  },
  {
   "cell_type": "code",
   "execution_count": null,
   "metadata": {},
   "outputs": [],
   "source": [
    "r2_score(train_pred_orig, y_train_orig)"
   ]
  },
  {
   "cell_type": "code",
   "execution_count": null,
   "metadata": {},
   "outputs": [],
   "source": [
    "np.concatenate((train_pred_orig, y_train_orig), 1)"
   ]
  },
  {
   "cell_type": "code",
   "execution_count": null,
   "metadata": {},
   "outputs": [],
   "source": [
    "np.concatenate((y_pred_orig, y_test_orig), 1)"
   ]
  },
  {
   "cell_type": "code",
   "execution_count": null,
   "metadata": {},
   "outputs": [],
   "source": [
    "plt.figure(figsize=(16,6))\n",
    "plt.subplot(1,2,2)\n",
    "plt.scatter(y_pred_orig, y_test_orig)\n",
    "plt.xlabel('Predicted Generated Power on Test Data')\n",
    "plt.ylabel('Real Generated Power on Test Data')\n",
    "plt.title('Test Predictions vs Real Data')\n",
    "#plt.scatter(y_test_orig, sc_X.inverse_transform(X_test)[:,2], color='green')\n",
    "plt.subplot(1,2,1)\n",
    "plt.scatter(train_pred_orig, y_train_orig)\n",
    "plt.xlabel('Predicted Generated Power on Training Data')\n",
    "plt.ylabel('Real Generated Power on Training Data')\n",
    "plt.title('Training Predictions vs Real Data')\n",
    "plt.show()"
   ]
  },
  {
   "cell_type": "code",
   "execution_count": null,
   "metadata": {
    "tags": []
   },
   "outputs": [],
   "source": [
    "x_axis = sc_X.inverse_transform(X_train)[:,-1]\n",
    "x2_axis = sc_X.inverse_transform(X_test)[:,-1]\n",
    "plt.figure(figsize=(16,6))\n",
    "plt.subplot(1,2,1)\n",
    "plt.scatter(x_axis, y_train_orig, label='Real Generated Power')\n",
    "plt.scatter(x_axis, train_pred_orig, c='red', label='Predicted Generated Power')\n",
    "plt.ylabel('Predicted and real Generated Power on Training Data')\n",
    "plt.xlabel('Solar Azimuth')\n",
    "plt.title('Training Predictions vs Solar Azimuth')\n",
    "plt.legend(loc='lower right')\n",
    "\n",
    "plt.subplot(1,2,2)\n",
    "plt.scatter(x2_axis, y_test_orig, label='Real Generated Power')\n",
    "plt.scatter(x2_axis, y_pred_orig, c='red', label='Predicted Generated Power')\n",
    "plt.ylabel('Predicted and real Generated Power on TEST Data')\n",
    "plt.xlabel('Solar Azimuth')\n",
    "plt.title('TEST Predictions vs Solar Azimuth')\n",
    "plt.legend(loc='lower right')\n",
    "plt.show()"
   ]
  },
  {
   "cell_type": "code",
   "execution_count": null,
   "metadata": {},
   "outputs": [],
   "source": [
    "results = np.concatenate((y_test_orig, y_pred_orig), 1)\n",
    "results = pd.DataFrame(data=results)\n",
    "results.columns = ['Real Solar Power Produced', 'Predicted Solar Power']\n",
    "#results = results.sort_values(by=['Real Solar Power Produced'])\n",
    "pd.options.display.float_format = \"{:,.2f}\".format\n",
    "#results[800:820]\n",
    "results[7:18]"
   ]
  },
  {
   "cell_type": "code",
   "execution_count": null,
   "metadata": {},
   "outputs": [],
   "source": [
    "sc = StandardScaler()\n",
    "pred_whole = spfnet.predict(sc.fit_transform(X))\n",
    "pred_whole_orig = sc_y.inverse_transform(pred_whole)\n",
    "pred_whole_orig"
   ]
  },
  {
   "cell_type": "code",
   "execution_count": null,
   "metadata": {},
   "outputs": [],
   "source": [
    "y"
   ]
  },
  {
   "cell_type": "code",
   "execution_count": null,
   "metadata": {},
   "outputs": [],
   "source": [
    "r2_score(pred_whole_orig, y)"
   ]
  },
  {
   "cell_type": "code",
   "execution_count": null,
   "metadata": {},
   "outputs": [],
   "source": [
    "df_results = pd.DataFrame.from_dict({\n",
    "    'R2 Score of Whole Data Frame': r2_score(pred_whole_orig, y),\n",
    "    'R2 Score of Training Set': r2_score(train_pred_orig, y_train_orig),\n",
    "    'R2 Score of Test Set': r2_score(y_pred_orig, y_test_orig),\n",
    "    'Mean of Test Set': np.mean(y_pred_orig),\n",
    "    'Standard Deviation pf Test Set': np.std(y_pred_orig),\n",
    "    'Relative Standard Deviation': np.std(y_pred_orig) / np.mean(y_pred_orig),\n",
    "},orient='index', columns=['Value'])\n",
    "display(df_results.style.background_gradient(cmap='afmhot', axis=0))"
   ]
  },
  {
   "cell_type": "code",
   "execution_count": null,
   "metadata": {},
   "outputs": [],
   "source": [
    "corr = data.corr()\n",
    "plt.figure(figsize=(22,22))\n",
    "sns.heatmap(corr, annot=True, square=True);"
   ]
  },
  {
   "cell_type": "markdown",
   "metadata": {},
   "source": [
    "**OBSERVATIONS**\n",
    "- High Correlation between Zenith and Agnle of Incidence of 0.71\n",
    "- Shortwave radiation backwards and Generate Power KW has corr of 0.56\n",
    "- Relative Humidity and Zenith are +ve corr (0.51)\n",
    "- Relative Humidity and Low Cloud Cover are + ve correlated (0.49)\n",
    "- Angle of Incidence and Zenith are -vely correlated with Genarted Power (-0.65)\n",
    "- -ve corr between Zenith and temperature of -0.55\n",
    "- High negative corr exists btw Shortwave radiation backwards and Zenith (-.8)\n",
    "- Shortwave radiation backwards and Relative humidity are -vely correlated (-.72)\n",
    "- Relative humidity and Temperature are -vely correlated (-.77)\n",
    "- \n"
   ]
  },
  {
   "cell_type": "code",
   "execution_count": null,
   "metadata": {},
   "outputs": [],
   "source": [
    "from sklearn.linear_model import Lasso\n",
    "lasso = Lasso(alpha = 0.001)\n",
    "\n",
    "lasso.fit(X_train, y_train)\n",
    "\n",
    "y_pred_lasso = lasso.predict(X_test)\n",
    "\n",
    "lasso_coeff = pd.DataFrame({'Feature Importance':lasso.coef_}, index=data.columns[:-1])\n",
    "lasso_coeff.sort_values('Feature Importance', ascending=False)"
   ]
  },
  {
   "cell_type": "code",
   "execution_count": null,
   "metadata": {},
   "outputs": [],
   "source": [
    "g = lasso_coeff[lasso_coeff['Feature Importance']!=0].sort_values('Feature Importance').plot(kind='barh',figsize=(6,6), cmap='winter')"
   ]
  },
  {
   "cell_type": "code",
   "execution_count": null,
   "metadata": {},
   "outputs": [],
   "source": []
  }
 ],
 "metadata": {
  "colab": {
   "authorship_tag": "ABX9TyOGPLsF8GTnVx3bVetzoW7z",
   "mount_file_id": "1bS9MFfo-xL9jHrzRyCgwK8_Dfh1ZHsS9",
   "name": "solarpower_generation_forecasting_ann.ipynb",
   "provenance": []
  },
  "kernelspec": {
   "display_name": "Python [conda env:base] *",
   "language": "python",
   "name": "conda-base-py"
  },
  "language_info": {
   "codemirror_mode": {
    "name": "ipython",
    "version": 3
   },
   "file_extension": ".py",
   "mimetype": "text/x-python",
   "name": "python",
   "nbconvert_exporter": "python",
   "pygments_lexer": "ipython3",
   "version": "3.12.7"
  }
 },
 "nbformat": 4,
 "nbformat_minor": 4
}
